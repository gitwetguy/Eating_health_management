{
 "cells": [
  {
   "cell_type": "code",
   "execution_count": 10,
   "metadata": {
    "_cell_guid": "b1076dfc-b9ad-4769-8c92-a6c4dae69d19",
    "_uuid": "8f2839f25d086af736a60e9eeb907d3b93b6e0e5"
   },
   "outputs": [],
   "source": [
    "# This Python 3 environment comes with many helpful analytics libraries installed\n",
    "# It is defined by the kaggle/python Docker image: https://github.com/kaggle/docker-python\n",
    "# For example, here's several helpful packages to load\n",
    "\n",
    "import numpy as np # linear algebra\n",
    "import pandas as pd # data processing, CSV file I/O (e.g. pd.read_csv)\n",
    "import matplotlib.pyplot as plt\n",
    "import tensorflow as tf\n",
    "\n",
    "# Input data files are available in the read-only \"../input/\" directory\n",
    "# For example, running this (by clicking run or pressing Shift+Enter) will list all files under the input directory\n",
    "\n",
    "import os\n",
    "\n",
    "# You can write up to 20GB to the current directory (/kaggle/working/) that gets preserved as output when you create a version using \"Save & Run All\" \n",
    "# You can also write temporary files to /kaggle/temp/, but they won't be saved outside of the current session\n",
    "\n",
    "gpus = tf.config.experimental.list_physical_devices('GPU')\n",
    "if gpus:\n",
    "    try:\n",
    "        tf.config.experimental.set_virtual_device_configuration(gpus[0], \n",
    "        [tf.config.experimental.VirtualDeviceConfiguration(memory_limit=5000)])\n",
    "    except RuntimeError as e:\n",
    "        print(e)"
   ]
  },
  {
   "cell_type": "code",
   "execution_count": 11,
   "metadata": {
    "tags": []
   },
   "outputs": [],
   "source": [
    "data_dir = 'Food_image/images/'"
   ]
  },
  {
   "cell_type": "code",
   "execution_count": 12,
   "metadata": {
    "tags": []
   },
   "outputs": [],
   "source": [
    "from tensorflow.keras.preprocessing.image import ImageDataGenerator"
   ]
  },
  {
   "cell_type": "markdown",
   "metadata": {},
   "source": [
    "## ***Data Collection***"
   ]
  },
  {
   "cell_type": "code",
   "execution_count": 13,
   "metadata": {
    "tags": []
   },
   "outputs": [],
   "source": [
    "datagen = ImageDataGenerator(rescale = 1./255, validation_split = 0.2)"
   ]
  },
  {
   "cell_type": "code",
   "execution_count": 14,
   "metadata": {
    "tags": []
   },
   "outputs": [
    {
     "name": "stdout",
     "output_type": "stream",
     "text": [
      "Found 80800 images belonging to 101 classes.\n",
      "Found 20200 images belonging to 101 classes.\n"
     ]
    }
   ],
   "source": [
    "train_data = datagen.flow_from_directory(data_dir, target_size = (250,250), batch_size = 64, class_mode = 'categorical',\n",
    "                                        subset = 'training')\n",
    "\n",
    "val_data = datagen.flow_from_directory(data_dir, target_size = (250,250), batch_size = 64, class_mode = 'categorical',\n",
    "                                        subset = 'validation')"
   ]
  },
  {
   "cell_type": "code",
   "execution_count": 15,
   "metadata": {
    "tags": []
   },
   "outputs": [],
   "source": [
    "import tensorflow_hub as hub\n",
    "ResNet_V2_50 = 'https://tfhub.dev/google/imagenet/resnet_v2_50/classification/5'\n",
    "Efficientnet_b0 = \"https://tfhub.dev/google/efficientnet/b0/classification/1\"\n",
    "Efficientnet_b7 = \"https://tfhub.dev/google/efficientnet/b7/classification/1\""
   ]
  },
  {
   "cell_type": "code",
   "execution_count": 7,
   "metadata": {},
   "outputs": [
    {
     "data": {
      "text/plain": [
       "Reusing TensorBoard on port 6006 (pid 70256), started 13:14:40 ago. (Use '!kill 70256' to kill it.)"
      ]
     },
     "metadata": {},
     "output_type": "display_data"
    },
    {
     "data": {
      "text/html": [
       "\n",
       "      <iframe id=\"tensorboard-frame-f76fa307ffdafc31\" width=\"100%\" height=\"800\" frameborder=\"0\">\n",
       "      </iframe>\n",
       "      <script>\n",
       "        (function() {\n",
       "          const frame = document.getElementById(\"tensorboard-frame-f76fa307ffdafc31\");\n",
       "          const url = new URL(\"/\", window.location);\n",
       "          const port = 6006;\n",
       "          if (port) {\n",
       "            url.port = port;\n",
       "          }\n",
       "          frame.src = url;\n",
       "        })();\n",
       "      </script>\n",
       "    "
      ],
      "text/plain": [
       "<IPython.core.display.HTML object>"
      ]
     },
     "metadata": {},
     "output_type": "display_data"
    }
   ],
   "source": [
    "%load_ext tensorboard\n",
    "%tensorboard --logdir logs --port 6006"
   ]
  },
  {
   "cell_type": "markdown",
   "metadata": {
    "jp-MarkdownHeadingCollapsed": true,
    "tags": []
   },
   "source": [
    "## ***ResNet Model Building***"
   ]
  },
  {
   "cell_type": "code",
   "execution_count": 8,
   "metadata": {},
   "outputs": [],
   "source": [
    "model_ResNet = tf.keras.Sequential([\n",
    "    hub.KerasLayer(ResNet_V2_50, trainable = False, input_shape = (250,250,3), name = 'Resnet_V2_50'),\n",
    "    tf.keras.layers.Flatten(),\n",
    "    tf.keras.layers.Dense(101, activation = 'softmax', name = 'Output_layer')\n",
    "])\n",
    "\n",
    "model_ResNet.compile(\n",
    "    optimizer = tf.keras.optimizers.Adam(),\n",
    "    loss = tf.keras.losses.CategoricalCrossentropy(),\n",
    "    metrics = ['accuracy']\n",
    ")"
   ]
  },
  {
   "cell_type": "code",
   "execution_count": 9,
   "metadata": {
    "tags": []
   },
   "outputs": [
    {
     "name": "stdout",
     "output_type": "stream",
     "text": [
      "Model: \"sequential\"\n",
      "_________________________________________________________________\n",
      " Layer (type)                Output Shape              Param #   \n",
      "=================================================================\n",
      " Resnet_V2_50 (KerasLayer)   (None, 1001)              25615849  \n",
      "                                                                 \n",
      " flatten (Flatten)           (None, 1001)              0         \n",
      "                                                                 \n",
      " Output_layer (Dense)        (None, 101)               101202    \n",
      "                                                                 \n",
      "=================================================================\n",
      "Total params: 25,717,051\n",
      "Trainable params: 101,202\n",
      "Non-trainable params: 25,615,849\n",
      "_________________________________________________________________\n"
     ]
    }
   ],
   "source": [
    "model_ResNet.summary()"
   ]
  },
  {
   "cell_type": "code",
   "execution_count": 10,
   "metadata": {
    "tags": []
   },
   "outputs": [
    {
     "name": "stdout",
     "output_type": "stream",
     "text": [
      "Epoch 1/10\n",
      "632/632 [==============================] - 1158s 2s/step - loss: 2.2293 - accuracy: 0.4602\n",
      "Epoch 2/10\n",
      "632/632 [==============================] - 263s 416ms/step - loss: 1.7440 - accuracy: 0.5604\n",
      "Epoch 3/10\n",
      "632/632 [==============================] - 263s 415ms/step - loss: 1.6266 - accuracy: 0.5849\n",
      "Epoch 4/10\n",
      "632/632 [==============================] - 263s 416ms/step - loss: 1.5588 - accuracy: 0.5976\n",
      "Epoch 5/10\n",
      "632/632 [==============================] - 263s 416ms/step - loss: 1.5073 - accuracy: 0.6112\n",
      "Epoch 6/10\n",
      "632/632 [==============================] - 263s 416ms/step - loss: 1.4737 - accuracy: 0.6178\n",
      "Epoch 7/10\n",
      "632/632 [==============================] - 263s 416ms/step - loss: 1.4375 - accuracy: 0.6244\n",
      "Epoch 8/10\n",
      "632/632 [==============================] - 264s 418ms/step - loss: 1.4108 - accuracy: 0.6306\n",
      "Epoch 9/10\n",
      "632/632 [==============================] - 264s 418ms/step - loss: 1.3887 - accuracy: 0.6373\n",
      "Epoch 10/10\n",
      "632/632 [==============================] - 266s 420ms/step - loss: 1.3669 - accuracy: 0.6416\n"
     ]
    }
   ],
   "source": [
    "resnet_model = model_ResNet.fit(train_data, epochs = 10, verbose = 1) #5"
   ]
  },
  {
   "cell_type": "code",
   "execution_count": 11,
   "metadata": {
    "tags": []
   },
   "outputs": [
    {
     "name": "stdout",
     "output_type": "stream",
     "text": [
      "158/158 [==============================] - 422s 3s/step - loss: 1.7935 - accuracy: 0.5684\n"
     ]
    },
    {
     "data": {
      "text/plain": [
       "[1.7935258150100708, 0.5684158205986023]"
      ]
     },
     "execution_count": 11,
     "metadata": {},
     "output_type": "execute_result"
    }
   ],
   "source": [
    "model_ResNet.evaluate(val_data)"
   ]
  },
  {
   "cell_type": "markdown",
   "metadata": {},
   "source": [
    "## ***Efficientnet_B0 Model Building***"
   ]
  },
  {
   "cell_type": "code",
   "execution_count": 8,
   "metadata": {
    "tags": []
   },
   "outputs": [
    {
     "name": "stdout",
     "output_type": "stream",
     "text": [
      "Model: \"sequential\"\n",
      "_________________________________________________________________\n",
      " Layer (type)                Output Shape              Param #   \n",
      "=================================================================\n",
      " Resnet_V2_50 (KerasLayer)   (None, 1000)              5330564   \n",
      "                                                                 \n",
      " flatten (Flatten)           (None, 1000)              0         \n",
      "                                                                 \n",
      " Output_layer (Dense)        (None, 101)               101101    \n",
      "                                                                 \n",
      "=================================================================\n",
      "Total params: 5,431,665\n",
      "Trainable params: 101,101\n",
      "Non-trainable params: 5,330,564\n",
      "_________________________________________________________________\n"
     ]
    }
   ],
   "source": [
    "model_Efficientnet = tf.keras.Sequential([\n",
    "    hub.KerasLayer(Efficientnet_b0, trainable = False, input_shape = (250,250,3), name = 'Resnet_V2_50'),\n",
    "    tf.keras.layers.Flatten(),\n",
    "    tf.keras.layers.Dense(101, activation = 'softmax', name = 'Output_layer')\n",
    "])\n",
    "\n",
    "model_Efficientnet.compile(\n",
    "    optimizer = tf.keras.optimizers.Adam(),\n",
    "    loss = tf.keras.losses.CategoricalCrossentropy(),\n",
    "    metrics = ['accuracy']\n",
    ")\n",
    "\n",
    "model_Efficientnet.summary()\n",
    "\n",
    "\n",
    "#define callback\n",
    "from tensorflow.keras.callbacks import TensorBoard\n",
    "from tensorflow.keras.callbacks import ModelCheckpoint\n",
    "from tensorflow.keras.callbacks import EarlyStopping\n",
    "from tensorflow.keras.callbacks import ReduceLROnPlateau\n",
    "import datetime,os\n",
    "\n",
    "logdir = os.path.join(\"logs\", datetime.datetime.now().strftime(\"%Y%m%d-%H%M%S\"))\n",
    "tb = tf.keras.callbacks.TensorBoard(logdir, histogram_freq=1)\n",
    "\n",
    "\n",
    "#1.ModelCheckpoint\n",
    "filepath = os.path.join(\"logs\", \"weight.hdf5\")\n",
    "mc = ModelCheckpoint(\n",
    "    filepath, \n",
    "    monitor='val_loss', \n",
    "    verbose=1, \n",
    "    save_best_only=True, \n",
    "    save_weights_only=True, \n",
    "    mode='auto'\n",
    ")\n",
    "\n",
    "#2.EarlyStopping\n",
    "#es=EarlyStopping(monitor='loss', patience=10, verbose=1)\n",
    "\n",
    "#3.ReduceLROnPlateau\n",
    "rp=ReduceLROnPlateau(\n",
    "    monitor='val_loss',\n",
    "    factor=0.1,\n",
    "    patience=5,\n",
    "    verbose=1,\n",
    "    mode='auto',\n",
    "    min_delta=0.001,\n",
    "    cooldown=0,\n",
    "    min_lr=0\n",
    ")\n",
    "\n",
    "\n",
    "efficientnet_model = model_Efficientnet.fit(train_data, epochs = 100, verbose = 1,validation_data=val_data,callbacks=[mc,rp,tb])\n",
    "\n",
    "model_Efficientnet.save(\"Efficientnet_b0_{}.h5\".format(datetime.datetime.now().strftime(\"%Y%m%d-%H%M%S\")))\n",
    "model_Efficientnet.save_weights('Efficientnet_b0_weight_{}.h5'.format(datetime.datetime.now().strftime(\"%Y%m%d-%H%M%S\")))\n",
    "\n",
    "model_Efficientnet.evaluate(val_data)\n"
   ]
  },
  {
   "cell_type": "markdown",
   "metadata": {},
   "source": [
    "## ***Comparison Between Both Models***"
   ]
  },
  {
   "cell_type": "code",
   "execution_count": null,
   "metadata": {},
   "outputs": [],
   "source": [
    "def plot_graph(history, history_1):\n",
    "    loss_res = history.history['loss']\n",
    "    loss_ef = history_1.history['loss']\n",
    "    \n",
    "    Accuracy_res = history.history['accuracy']\n",
    "    Accuracy_ef = history_1.history['accuracy']\n",
    "\n",
    "    epochs = range(len(history.history['loss']))\n",
    "\n",
    "    plt.plot(epochs, loss_res, label = 'ResNet Loss')\n",
    "    plt.plot(epochs, loss_ef, label = 'Efficientnet Loss')\n",
    "    plt.title('Epochs Vs Loss')\n",
    "    plt.xlabel('epochs')\n",
    "    plt.ylabel('Loss')\n",
    "    plt.legend()\n",
    "\n",
    "    plt.figure()\n",
    "    plt.plot(epochs, Accuracy_res, label = 'ResNet Accuracy')\n",
    "    plt.plot(epochs, Accuracy_ef, label = 'Efficientnet Accuracy')\n",
    "    plt.title('Epochs Vs Accuracy')\n",
    "    plt.xlabel('epochs')\n",
    "    plt.ylabel('Accuracy')\n",
    "    plt.legend()\n",
    "\n",
    "plot_graph(resnet_model, efficientnet_model)"
   ]
  },
  {
   "cell_type": "markdown",
   "metadata": {},
   "source": [
    "## ***Efficientnet_B7 Model Building***"
   ]
  },
  {
   "cell_type": "code",
   "execution_count": 16,
   "metadata": {},
   "outputs": [
    {
     "name": "stdout",
     "output_type": "stream",
     "text": [
      "Model: \"sequential_2\"\n",
      "_________________________________________________________________\n",
      " Layer (type)                Output Shape              Param #   \n",
      "=================================================================\n",
      " Resnet_V2_50 (KerasLayer)   (None, 1000)              66658680  \n",
      "                                                                 \n",
      " flatten_2 (Flatten)         (None, 1000)              0         \n",
      "                                                                 \n",
      " Output_layer (Dense)        (None, 101)               101101    \n",
      "                                                                 \n",
      "=================================================================\n",
      "Total params: 66,759,781\n",
      "Trainable params: 101,101\n",
      "Non-trainable params: 66,658,680\n",
      "_________________________________________________________________\n",
      "Epoch 1/100\n",
      "1263/1263 [==============================] - ETA: 0s - loss: 1.7384 - accuracy: 0.5631\n",
      "Epoch 00001: val_loss improved from inf to 1.43895, saving model to logs\\weight.hdf5\n",
      "1263/1263 [==============================] - 806s 621ms/step - loss: 1.7384 - accuracy: 0.5631 - val_loss: 1.4389 - val_accuracy: 0.6295 - lr: 0.0010\n",
      "Epoch 2/100\n",
      "1263/1263 [==============================] - ETA: 0s - loss: 1.3426 - accuracy: 0.6512\n",
      "Epoch 00002: val_loss improved from 1.43895 to 1.38899, saving model to logs\\weight.hdf5\n",
      "1263/1263 [==============================] - 791s 626ms/step - loss: 1.3426 - accuracy: 0.6512 - val_loss: 1.3890 - val_accuracy: 0.6507 - lr: 0.0010\n",
      "Epoch 3/100\n",
      "1263/1263 [==============================] - ETA: 0s - loss: 1.2570 - accuracy: 0.6711\n",
      "Epoch 00003: val_loss improved from 1.38899 to 1.38528, saving model to logs\\weight.hdf5\n",
      "1263/1263 [==============================] - 803s 635ms/step - loss: 1.2570 - accuracy: 0.6711 - val_loss: 1.3853 - val_accuracy: 0.6492 - lr: 0.0010\n",
      "Epoch 4/100\n",
      "1263/1263 [==============================] - ETA: 0s - loss: 1.2084 - accuracy: 0.6832\n",
      "Epoch 00004: val_loss did not improve from 1.38528\n",
      "1263/1263 [==============================] - 783s 619ms/step - loss: 1.2084 - accuracy: 0.6832 - val_loss: 1.3863 - val_accuracy: 0.6515 - lr: 0.0010\n",
      "Epoch 5/100\n",
      "1263/1263 [==============================] - ETA: 0s - loss: 1.1725 - accuracy: 0.6899\n",
      "Epoch 00005: val_loss did not improve from 1.38528\n",
      "1263/1263 [==============================] - 784s 621ms/step - loss: 1.1725 - accuracy: 0.6899 - val_loss: 1.4088 - val_accuracy: 0.6454 - lr: 0.0010\n",
      "Epoch 6/100\n",
      "1263/1263 [==============================] - ETA: 0s - loss: 1.1478 - accuracy: 0.6967\n",
      "Epoch 00006: val_loss did not improve from 1.38528\n",
      "1263/1263 [==============================] - 786s 622ms/step - loss: 1.1478 - accuracy: 0.6967 - val_loss: 1.3946 - val_accuracy: 0.6514 - lr: 0.0010\n",
      "Epoch 7/100\n",
      "1263/1263 [==============================] - ETA: 0s - loss: 1.1271 - accuracy: 0.7015\n",
      "Epoch 00007: val_loss did not improve from 1.38528\n",
      "1263/1263 [==============================] - 776s 614ms/step - loss: 1.1271 - accuracy: 0.7015 - val_loss: 1.4237 - val_accuracy: 0.6505 - lr: 0.0010\n",
      "Epoch 8/100\n",
      "1263/1263 [==============================] - ETA: 0s - loss: 1.1124 - accuracy: 0.7066\n",
      "Epoch 00008: val_loss did not improve from 1.38528\n",
      "\n",
      "Epoch 00008: ReduceLROnPlateau reducing learning rate to 0.00010000000474974513.\n",
      "1263/1263 [==============================] - 773s 612ms/step - loss: 1.1124 - accuracy: 0.7066 - val_loss: 1.4026 - val_accuracy: 0.6554 - lr: 0.0010\n",
      "Epoch 9/100\n",
      "1263/1263 [==============================] - ETA: 0s - loss: 0.9591 - accuracy: 0.7455\n",
      "Epoch 00009: val_loss improved from 1.38528 to 1.33936, saving model to logs\\weight.hdf5\n",
      "1263/1263 [==============================] - 774s 613ms/step - loss: 0.9591 - accuracy: 0.7455 - val_loss: 1.3394 - val_accuracy: 0.6692 - lr: 1.0000e-04\n",
      "Epoch 10/100\n",
      "1263/1263 [==============================] - ETA: 0s - loss: 0.9411 - accuracy: 0.7519\n",
      "Epoch 00010: val_loss improved from 1.33936 to 1.33394, saving model to logs\\weight.hdf5\n",
      "1263/1263 [==============================] - 783s 619ms/step - loss: 0.9411 - accuracy: 0.7519 - val_loss: 1.3339 - val_accuracy: 0.6694 - lr: 1.0000e-04\n",
      "Epoch 11/100\n",
      "1263/1263 [==============================] - ETA: 0s - loss: 0.9351 - accuracy: 0.7529\n",
      "Epoch 00011: val_loss improved from 1.33394 to 1.32966, saving model to logs\\weight.hdf5\n",
      "1263/1263 [==============================] - 787s 623ms/step - loss: 0.9351 - accuracy: 0.7529 - val_loss: 1.3297 - val_accuracy: 0.6702 - lr: 1.0000e-04\n",
      "Epoch 12/100\n",
      "1263/1263 [==============================] - ETA: 0s - loss: 0.9316 - accuracy: 0.7547\n",
      "Epoch 00012: val_loss did not improve from 1.32966\n",
      "1263/1263 [==============================] - 782s 619ms/step - loss: 0.9316 - accuracy: 0.7547 - val_loss: 1.3308 - val_accuracy: 0.6698 - lr: 1.0000e-04\n",
      "Epoch 13/100\n",
      "1263/1263 [==============================] - ETA: 0s - loss: 0.9291 - accuracy: 0.7549\n",
      "Epoch 00013: val_loss did not improve from 1.32966\n",
      "1263/1263 [==============================] - 772s 611ms/step - loss: 0.9291 - accuracy: 0.7549 - val_loss: 1.3299 - val_accuracy: 0.6709 - lr: 1.0000e-04\n",
      "Epoch 14/100\n",
      "1263/1263 [==============================] - ETA: 0s - loss: 0.9270 - accuracy: 0.7560\n",
      "Epoch 00014: val_loss improved from 1.32966 to 1.32903, saving model to logs\\weight.hdf5\n",
      "1263/1263 [==============================] - 787s 623ms/step - loss: 0.9270 - accuracy: 0.7560 - val_loss: 1.3290 - val_accuracy: 0.6696 - lr: 1.0000e-04\n",
      "Epoch 15/100\n",
      "1263/1263 [==============================] - ETA: 0s - loss: 0.9250 - accuracy: 0.7560\n",
      "Epoch 00015: val_loss did not improve from 1.32903\n",
      "1263/1263 [==============================] - 786s 622ms/step - loss: 0.9250 - accuracy: 0.7560 - val_loss: 1.3303 - val_accuracy: 0.6689 - lr: 1.0000e-04\n",
      "Epoch 16/100\n",
      "1263/1263 [==============================] - ETA: 0s - loss: 0.9232 - accuracy: 0.7567\n",
      "Epoch 00016: val_loss did not improve from 1.32903\n",
      "\n",
      "Epoch 00016: ReduceLROnPlateau reducing learning rate to 1.0000000474974514e-05.\n",
      "1263/1263 [==============================] - 782s 619ms/step - loss: 0.9232 - accuracy: 0.7567 - val_loss: 1.3297 - val_accuracy: 0.6706 - lr: 1.0000e-04\n",
      "Epoch 17/100\n",
      "1263/1263 [==============================] - ETA: 0s - loss: 0.9046 - accuracy: 0.7622\n",
      "Epoch 00017: val_loss improved from 1.32903 to 1.32620, saving model to logs\\weight.hdf5\n",
      "1263/1263 [==============================] - 791s 626ms/step - loss: 0.9046 - accuracy: 0.7622 - val_loss: 1.3262 - val_accuracy: 0.6712 - lr: 1.0000e-05\n",
      "Epoch 18/100\n",
      "1263/1263 [==============================] - ETA: 0s - loss: 0.9033 - accuracy: 0.7631\n",
      "Epoch 00018: val_loss improved from 1.32620 to 1.32599, saving model to logs\\weight.hdf5\n",
      "1263/1263 [==============================] - 777s 615ms/step - loss: 0.9033 - accuracy: 0.7631 - val_loss: 1.3260 - val_accuracy: 0.6717 - lr: 1.0000e-05\n",
      "Epoch 19/100\n",
      "1263/1263 [==============================] - ETA: 0s - loss: 0.9030 - accuracy: 0.7629\n",
      "Epoch 00019: val_loss did not improve from 1.32599\n",
      "1263/1263 [==============================] - 770s 610ms/step - loss: 0.9030 - accuracy: 0.7629 - val_loss: 1.3260 - val_accuracy: 0.6715 - lr: 1.0000e-05\n",
      "Epoch 20/100\n",
      "1263/1263 [==============================] - ETA: 0s - loss: 0.9028 - accuracy: 0.7633\n",
      "Epoch 00020: val_loss did not improve from 1.32599\n",
      "1263/1263 [==============================] - 784s 620ms/step - loss: 0.9028 - accuracy: 0.7633 - val_loss: 1.3261 - val_accuracy: 0.6710 - lr: 1.0000e-05\n",
      "Epoch 21/100\n",
      "1263/1263 [==============================] - ETA: 0s - loss: 0.9027 - accuracy: 0.7635\n",
      "Epoch 00021: val_loss did not improve from 1.32599\n",
      "1263/1263 [==============================] - 787s 623ms/step - loss: 0.9027 - accuracy: 0.7635 - val_loss: 1.3262 - val_accuracy: 0.6717 - lr: 1.0000e-05\n",
      "Epoch 22/100\n",
      "1263/1263 [==============================] - ETA: 0s - loss: 0.9025 - accuracy: 0.7634\n",
      "Epoch 00022: val_loss did not improve from 1.32599\n",
      "\n",
      "Epoch 00022: ReduceLROnPlateau reducing learning rate to 1.0000000656873453e-06.\n",
      "1263/1263 [==============================] - 775s 614ms/step - loss: 0.9025 - accuracy: 0.7634 - val_loss: 1.3263 - val_accuracy: 0.6713 - lr: 1.0000e-05\n",
      "Epoch 23/100\n",
      "1263/1263 [==============================] - ETA: 0s - loss: 0.9002 - accuracy: 0.7641\n",
      "Epoch 00023: val_loss did not improve from 1.32599\n",
      "1263/1263 [==============================] - 791s 626ms/step - loss: 0.9002 - accuracy: 0.7641 - val_loss: 1.3262 - val_accuracy: 0.6713 - lr: 1.0000e-06\n",
      "Epoch 24/100\n",
      "1263/1263 [==============================] - ETA: 0s - loss: 0.9001 - accuracy: 0.7641"
     ]
    },
    {
     "ename": "KeyboardInterrupt",
     "evalue": "",
     "output_type": "error",
     "traceback": [
      "\u001b[1;31m---------------------------------------------------------------------------\u001b[0m",
      "\u001b[1;31mKeyboardInterrupt\u001b[0m                         Traceback (most recent call last)",
      "\u001b[1;32m~\\AppData\\Local\\Temp/ipykernel_77672/3234586330.py\u001b[0m in \u001b[0;36m<module>\u001b[1;34m\u001b[0m\n\u001b[0;32m     52\u001b[0m \u001b[1;33m\u001b[0m\u001b[0m\n\u001b[0;32m     53\u001b[0m \u001b[1;33m\u001b[0m\u001b[0m\n\u001b[1;32m---> 54\u001b[1;33m \u001b[0mefficientnet_b7_model\u001b[0m \u001b[1;33m=\u001b[0m \u001b[0mmodel_Efficientnet_b7\u001b[0m\u001b[1;33m.\u001b[0m\u001b[0mfit\u001b[0m\u001b[1;33m(\u001b[0m\u001b[0mtrain_data\u001b[0m\u001b[1;33m,\u001b[0m \u001b[0mepochs\u001b[0m \u001b[1;33m=\u001b[0m \u001b[1;36m100\u001b[0m\u001b[1;33m,\u001b[0m \u001b[0mverbose\u001b[0m \u001b[1;33m=\u001b[0m \u001b[1;36m1\u001b[0m\u001b[1;33m,\u001b[0m\u001b[0mvalidation_data\u001b[0m\u001b[1;33m=\u001b[0m\u001b[0mval_data\u001b[0m\u001b[1;33m,\u001b[0m\u001b[0mcallbacks\u001b[0m\u001b[1;33m=\u001b[0m\u001b[1;33m[\u001b[0m\u001b[0mmc\u001b[0m\u001b[1;33m,\u001b[0m\u001b[0mrp\u001b[0m\u001b[1;33m,\u001b[0m\u001b[0mtb\u001b[0m\u001b[1;33m]\u001b[0m\u001b[1;33m)\u001b[0m\u001b[1;33m\u001b[0m\u001b[1;33m\u001b[0m\u001b[0m\n\u001b[0m\u001b[0;32m     55\u001b[0m \u001b[1;33m\u001b[0m\u001b[0m\n\u001b[0;32m     56\u001b[0m \u001b[0mmodel_Efficientnet_b7\u001b[0m\u001b[1;33m.\u001b[0m\u001b[0msave\u001b[0m\u001b[1;33m(\u001b[0m\u001b[1;34m\"Efficientnet_b7_{}.h5\"\u001b[0m\u001b[1;33m.\u001b[0m\u001b[0mformat\u001b[0m\u001b[1;33m(\u001b[0m\u001b[0mdatetime\u001b[0m\u001b[1;33m.\u001b[0m\u001b[0mdatetime\u001b[0m\u001b[1;33m.\u001b[0m\u001b[0mnow\u001b[0m\u001b[1;33m(\u001b[0m\u001b[1;33m)\u001b[0m\u001b[1;33m.\u001b[0m\u001b[0mstrftime\u001b[0m\u001b[1;33m(\u001b[0m\u001b[1;34m\"%Y%m%d-%H%M%S\"\u001b[0m\u001b[1;33m)\u001b[0m\u001b[1;33m)\u001b[0m\u001b[1;33m)\u001b[0m\u001b[1;33m\u001b[0m\u001b[1;33m\u001b[0m\u001b[0m\n",
      "\u001b[1;32m~\\anaconda3\\envs\\rtx3070\\lib\\site-packages\\keras\\utils\\traceback_utils.py\u001b[0m in \u001b[0;36merror_handler\u001b[1;34m(*args, **kwargs)\u001b[0m\n\u001b[0;32m     62\u001b[0m     \u001b[0mfiltered_tb\u001b[0m \u001b[1;33m=\u001b[0m \u001b[1;32mNone\u001b[0m\u001b[1;33m\u001b[0m\u001b[1;33m\u001b[0m\u001b[0m\n\u001b[0;32m     63\u001b[0m     \u001b[1;32mtry\u001b[0m\u001b[1;33m:\u001b[0m\u001b[1;33m\u001b[0m\u001b[1;33m\u001b[0m\u001b[0m\n\u001b[1;32m---> 64\u001b[1;33m       \u001b[1;32mreturn\u001b[0m \u001b[0mfn\u001b[0m\u001b[1;33m(\u001b[0m\u001b[1;33m*\u001b[0m\u001b[0margs\u001b[0m\u001b[1;33m,\u001b[0m \u001b[1;33m**\u001b[0m\u001b[0mkwargs\u001b[0m\u001b[1;33m)\u001b[0m\u001b[1;33m\u001b[0m\u001b[1;33m\u001b[0m\u001b[0m\n\u001b[0m\u001b[0;32m     65\u001b[0m     \u001b[1;32mexcept\u001b[0m \u001b[0mException\u001b[0m \u001b[1;32mas\u001b[0m \u001b[0me\u001b[0m\u001b[1;33m:\u001b[0m  \u001b[1;31m# pylint: disable=broad-except\u001b[0m\u001b[1;33m\u001b[0m\u001b[1;33m\u001b[0m\u001b[0m\n\u001b[0;32m     66\u001b[0m       \u001b[0mfiltered_tb\u001b[0m \u001b[1;33m=\u001b[0m \u001b[0m_process_traceback_frames\u001b[0m\u001b[1;33m(\u001b[0m\u001b[0me\u001b[0m\u001b[1;33m.\u001b[0m\u001b[0m__traceback__\u001b[0m\u001b[1;33m)\u001b[0m\u001b[1;33m\u001b[0m\u001b[1;33m\u001b[0m\u001b[0m\n",
      "\u001b[1;32m~\\anaconda3\\envs\\rtx3070\\lib\\site-packages\\keras\\engine\\training.py\u001b[0m in \u001b[0;36mfit\u001b[1;34m(self, x, y, batch_size, epochs, verbose, callbacks, validation_split, validation_data, shuffle, class_weight, sample_weight, initial_epoch, steps_per_epoch, validation_steps, validation_batch_size, validation_freq, max_queue_size, workers, use_multiprocessing)\u001b[0m\n\u001b[0;32m   1250\u001b[0m                 \u001b[0mmodel\u001b[0m\u001b[1;33m=\u001b[0m\u001b[0mself\u001b[0m\u001b[1;33m,\u001b[0m\u001b[1;33m\u001b[0m\u001b[1;33m\u001b[0m\u001b[0m\n\u001b[0;32m   1251\u001b[0m                 steps_per_execution=self._steps_per_execution)\n\u001b[1;32m-> 1252\u001b[1;33m           val_logs = self.evaluate(\n\u001b[0m\u001b[0;32m   1253\u001b[0m               \u001b[0mx\u001b[0m\u001b[1;33m=\u001b[0m\u001b[0mval_x\u001b[0m\u001b[1;33m,\u001b[0m\u001b[1;33m\u001b[0m\u001b[1;33m\u001b[0m\u001b[0m\n\u001b[0;32m   1254\u001b[0m               \u001b[0my\u001b[0m\u001b[1;33m=\u001b[0m\u001b[0mval_y\u001b[0m\u001b[1;33m,\u001b[0m\u001b[1;33m\u001b[0m\u001b[1;33m\u001b[0m\u001b[0m\n",
      "\u001b[1;32m~\\anaconda3\\envs\\rtx3070\\lib\\site-packages\\keras\\utils\\traceback_utils.py\u001b[0m in \u001b[0;36merror_handler\u001b[1;34m(*args, **kwargs)\u001b[0m\n\u001b[0;32m     62\u001b[0m     \u001b[0mfiltered_tb\u001b[0m \u001b[1;33m=\u001b[0m \u001b[1;32mNone\u001b[0m\u001b[1;33m\u001b[0m\u001b[1;33m\u001b[0m\u001b[0m\n\u001b[0;32m     63\u001b[0m     \u001b[1;32mtry\u001b[0m\u001b[1;33m:\u001b[0m\u001b[1;33m\u001b[0m\u001b[1;33m\u001b[0m\u001b[0m\n\u001b[1;32m---> 64\u001b[1;33m       \u001b[1;32mreturn\u001b[0m \u001b[0mfn\u001b[0m\u001b[1;33m(\u001b[0m\u001b[1;33m*\u001b[0m\u001b[0margs\u001b[0m\u001b[1;33m,\u001b[0m \u001b[1;33m**\u001b[0m\u001b[0mkwargs\u001b[0m\u001b[1;33m)\u001b[0m\u001b[1;33m\u001b[0m\u001b[1;33m\u001b[0m\u001b[0m\n\u001b[0m\u001b[0;32m     65\u001b[0m     \u001b[1;32mexcept\u001b[0m \u001b[0mException\u001b[0m \u001b[1;32mas\u001b[0m \u001b[0me\u001b[0m\u001b[1;33m:\u001b[0m  \u001b[1;31m# pylint: disable=broad-except\u001b[0m\u001b[1;33m\u001b[0m\u001b[1;33m\u001b[0m\u001b[0m\n\u001b[0;32m     66\u001b[0m       \u001b[0mfiltered_tb\u001b[0m \u001b[1;33m=\u001b[0m \u001b[0m_process_traceback_frames\u001b[0m\u001b[1;33m(\u001b[0m\u001b[0me\u001b[0m\u001b[1;33m.\u001b[0m\u001b[0m__traceback__\u001b[0m\u001b[1;33m)\u001b[0m\u001b[1;33m\u001b[0m\u001b[1;33m\u001b[0m\u001b[0m\n",
      "\u001b[1;32m~\\anaconda3\\envs\\rtx3070\\lib\\site-packages\\keras\\engine\\training.py\u001b[0m in \u001b[0;36mevaluate\u001b[1;34m(self, x, y, batch_size, verbose, sample_weight, steps, callbacks, max_queue_size, workers, use_multiprocessing, return_dict, **kwargs)\u001b[0m\n\u001b[0;32m   1535\u001b[0m             \u001b[1;32mwith\u001b[0m \u001b[0mtf\u001b[0m\u001b[1;33m.\u001b[0m\u001b[0mprofiler\u001b[0m\u001b[1;33m.\u001b[0m\u001b[0mexperimental\u001b[0m\u001b[1;33m.\u001b[0m\u001b[0mTrace\u001b[0m\u001b[1;33m(\u001b[0m\u001b[1;34m'test'\u001b[0m\u001b[1;33m,\u001b[0m \u001b[0mstep_num\u001b[0m\u001b[1;33m=\u001b[0m\u001b[0mstep\u001b[0m\u001b[1;33m,\u001b[0m \u001b[0m_r\u001b[0m\u001b[1;33m=\u001b[0m\u001b[1;36m1\u001b[0m\u001b[1;33m)\u001b[0m\u001b[1;33m:\u001b[0m\u001b[1;33m\u001b[0m\u001b[1;33m\u001b[0m\u001b[0m\n\u001b[0;32m   1536\u001b[0m               \u001b[0mcallbacks\u001b[0m\u001b[1;33m.\u001b[0m\u001b[0mon_test_batch_begin\u001b[0m\u001b[1;33m(\u001b[0m\u001b[0mstep\u001b[0m\u001b[1;33m)\u001b[0m\u001b[1;33m\u001b[0m\u001b[1;33m\u001b[0m\u001b[0m\n\u001b[1;32m-> 1537\u001b[1;33m               \u001b[0mtmp_logs\u001b[0m \u001b[1;33m=\u001b[0m \u001b[0mself\u001b[0m\u001b[1;33m.\u001b[0m\u001b[0mtest_function\u001b[0m\u001b[1;33m(\u001b[0m\u001b[0miterator\u001b[0m\u001b[1;33m)\u001b[0m\u001b[1;33m\u001b[0m\u001b[1;33m\u001b[0m\u001b[0m\n\u001b[0m\u001b[0;32m   1538\u001b[0m               \u001b[1;32mif\u001b[0m \u001b[0mdata_handler\u001b[0m\u001b[1;33m.\u001b[0m\u001b[0mshould_sync\u001b[0m\u001b[1;33m:\u001b[0m\u001b[1;33m\u001b[0m\u001b[1;33m\u001b[0m\u001b[0m\n\u001b[0;32m   1539\u001b[0m                 \u001b[0mcontext\u001b[0m\u001b[1;33m.\u001b[0m\u001b[0masync_wait\u001b[0m\u001b[1;33m(\u001b[0m\u001b[1;33m)\u001b[0m\u001b[1;33m\u001b[0m\u001b[1;33m\u001b[0m\u001b[0m\n",
      "\u001b[1;32m~\\anaconda3\\envs\\rtx3070\\lib\\site-packages\\tensorflow\\python\\util\\traceback_utils.py\u001b[0m in \u001b[0;36merror_handler\u001b[1;34m(*args, **kwargs)\u001b[0m\n\u001b[0;32m    148\u001b[0m     \u001b[0mfiltered_tb\u001b[0m \u001b[1;33m=\u001b[0m \u001b[1;32mNone\u001b[0m\u001b[1;33m\u001b[0m\u001b[1;33m\u001b[0m\u001b[0m\n\u001b[0;32m    149\u001b[0m     \u001b[1;32mtry\u001b[0m\u001b[1;33m:\u001b[0m\u001b[1;33m\u001b[0m\u001b[1;33m\u001b[0m\u001b[0m\n\u001b[1;32m--> 150\u001b[1;33m       \u001b[1;32mreturn\u001b[0m \u001b[0mfn\u001b[0m\u001b[1;33m(\u001b[0m\u001b[1;33m*\u001b[0m\u001b[0margs\u001b[0m\u001b[1;33m,\u001b[0m \u001b[1;33m**\u001b[0m\u001b[0mkwargs\u001b[0m\u001b[1;33m)\u001b[0m\u001b[1;33m\u001b[0m\u001b[1;33m\u001b[0m\u001b[0m\n\u001b[0m\u001b[0;32m    151\u001b[0m     \u001b[1;32mexcept\u001b[0m \u001b[0mException\u001b[0m \u001b[1;32mas\u001b[0m \u001b[0me\u001b[0m\u001b[1;33m:\u001b[0m\u001b[1;33m\u001b[0m\u001b[1;33m\u001b[0m\u001b[0m\n\u001b[0;32m    152\u001b[0m       \u001b[0mfiltered_tb\u001b[0m \u001b[1;33m=\u001b[0m \u001b[0m_process_traceback_frames\u001b[0m\u001b[1;33m(\u001b[0m\u001b[0me\u001b[0m\u001b[1;33m.\u001b[0m\u001b[0m__traceback__\u001b[0m\u001b[1;33m)\u001b[0m\u001b[1;33m\u001b[0m\u001b[1;33m\u001b[0m\u001b[0m\n",
      "\u001b[1;32m~\\anaconda3\\envs\\rtx3070\\lib\\site-packages\\tensorflow\\python\\eager\\def_function.py\u001b[0m in \u001b[0;36m__call__\u001b[1;34m(self, *args, **kwds)\u001b[0m\n\u001b[0;32m    908\u001b[0m \u001b[1;33m\u001b[0m\u001b[0m\n\u001b[0;32m    909\u001b[0m       \u001b[1;32mwith\u001b[0m \u001b[0mOptionalXlaContext\u001b[0m\u001b[1;33m(\u001b[0m\u001b[0mself\u001b[0m\u001b[1;33m.\u001b[0m\u001b[0m_jit_compile\u001b[0m\u001b[1;33m)\u001b[0m\u001b[1;33m:\u001b[0m\u001b[1;33m\u001b[0m\u001b[1;33m\u001b[0m\u001b[0m\n\u001b[1;32m--> 910\u001b[1;33m         \u001b[0mresult\u001b[0m \u001b[1;33m=\u001b[0m \u001b[0mself\u001b[0m\u001b[1;33m.\u001b[0m\u001b[0m_call\u001b[0m\u001b[1;33m(\u001b[0m\u001b[1;33m*\u001b[0m\u001b[0margs\u001b[0m\u001b[1;33m,\u001b[0m \u001b[1;33m**\u001b[0m\u001b[0mkwds\u001b[0m\u001b[1;33m)\u001b[0m\u001b[1;33m\u001b[0m\u001b[1;33m\u001b[0m\u001b[0m\n\u001b[0m\u001b[0;32m    911\u001b[0m \u001b[1;33m\u001b[0m\u001b[0m\n\u001b[0;32m    912\u001b[0m       \u001b[0mnew_tracing_count\u001b[0m \u001b[1;33m=\u001b[0m \u001b[0mself\u001b[0m\u001b[1;33m.\u001b[0m\u001b[0mexperimental_get_tracing_count\u001b[0m\u001b[1;33m(\u001b[0m\u001b[1;33m)\u001b[0m\u001b[1;33m\u001b[0m\u001b[1;33m\u001b[0m\u001b[0m\n",
      "\u001b[1;32m~\\anaconda3\\envs\\rtx3070\\lib\\site-packages\\tensorflow\\python\\eager\\def_function.py\u001b[0m in \u001b[0;36m_call\u001b[1;34m(self, *args, **kwds)\u001b[0m\n\u001b[0;32m    947\u001b[0m       \u001b[1;31m# In this case we have not created variables on the first call. So we can\u001b[0m\u001b[1;33m\u001b[0m\u001b[1;33m\u001b[0m\u001b[1;33m\u001b[0m\u001b[0m\n\u001b[0;32m    948\u001b[0m       \u001b[1;31m# run the first trace but we should fail if variables are created.\u001b[0m\u001b[1;33m\u001b[0m\u001b[1;33m\u001b[0m\u001b[1;33m\u001b[0m\u001b[0m\n\u001b[1;32m--> 949\u001b[1;33m       \u001b[0mresults\u001b[0m \u001b[1;33m=\u001b[0m \u001b[0mself\u001b[0m\u001b[1;33m.\u001b[0m\u001b[0m_stateful_fn\u001b[0m\u001b[1;33m(\u001b[0m\u001b[1;33m*\u001b[0m\u001b[0margs\u001b[0m\u001b[1;33m,\u001b[0m \u001b[1;33m**\u001b[0m\u001b[0mkwds\u001b[0m\u001b[1;33m)\u001b[0m\u001b[1;33m\u001b[0m\u001b[1;33m\u001b[0m\u001b[0m\n\u001b[0m\u001b[0;32m    950\u001b[0m       \u001b[1;32mif\u001b[0m \u001b[0mself\u001b[0m\u001b[1;33m.\u001b[0m\u001b[0m_created_variables\u001b[0m \u001b[1;32mand\u001b[0m \u001b[1;32mnot\u001b[0m \u001b[0mALLOW_DYNAMIC_VARIABLE_CREATION\u001b[0m\u001b[1;33m:\u001b[0m\u001b[1;33m\u001b[0m\u001b[1;33m\u001b[0m\u001b[0m\n\u001b[0;32m    951\u001b[0m         raise ValueError(\"Creating variables on a non-first call to a function\"\n",
      "\u001b[1;32m~\\anaconda3\\envs\\rtx3070\\lib\\site-packages\\tensorflow\\python\\eager\\function.py\u001b[0m in \u001b[0;36m__call__\u001b[1;34m(self, *args, **kwargs)\u001b[0m\n\u001b[0;32m   3128\u001b[0m       (graph_function,\n\u001b[0;32m   3129\u001b[0m        filtered_flat_args) = self._maybe_define_function(args, kwargs)\n\u001b[1;32m-> 3130\u001b[1;33m     return graph_function._call_flat(\n\u001b[0m\u001b[0;32m   3131\u001b[0m         filtered_flat_args, captured_inputs=graph_function.captured_inputs)  # pylint: disable=protected-access\n\u001b[0;32m   3132\u001b[0m \u001b[1;33m\u001b[0m\u001b[0m\n",
      "\u001b[1;32m~\\anaconda3\\envs\\rtx3070\\lib\\site-packages\\tensorflow\\python\\eager\\function.py\u001b[0m in \u001b[0;36m_call_flat\u001b[1;34m(self, args, captured_inputs, cancellation_manager)\u001b[0m\n\u001b[0;32m   1957\u001b[0m         and executing_eagerly):\n\u001b[0;32m   1958\u001b[0m       \u001b[1;31m# No tape is watching; skip to running the function.\u001b[0m\u001b[1;33m\u001b[0m\u001b[1;33m\u001b[0m\u001b[1;33m\u001b[0m\u001b[0m\n\u001b[1;32m-> 1959\u001b[1;33m       return self._build_call_outputs(self._inference_function.call(\n\u001b[0m\u001b[0;32m   1960\u001b[0m           ctx, args, cancellation_manager=cancellation_manager))\n\u001b[0;32m   1961\u001b[0m     forward_backward = self._select_forward_and_backward_functions(\n",
      "\u001b[1;32m~\\anaconda3\\envs\\rtx3070\\lib\\site-packages\\tensorflow\\python\\eager\\function.py\u001b[0m in \u001b[0;36mcall\u001b[1;34m(self, ctx, args, cancellation_manager)\u001b[0m\n\u001b[0;32m    596\u001b[0m       \u001b[1;32mwith\u001b[0m \u001b[0m_InterpolateFunctionError\u001b[0m\u001b[1;33m(\u001b[0m\u001b[0mself\u001b[0m\u001b[1;33m)\u001b[0m\u001b[1;33m:\u001b[0m\u001b[1;33m\u001b[0m\u001b[1;33m\u001b[0m\u001b[0m\n\u001b[0;32m    597\u001b[0m         \u001b[1;32mif\u001b[0m \u001b[0mcancellation_manager\u001b[0m \u001b[1;32mis\u001b[0m \u001b[1;32mNone\u001b[0m\u001b[1;33m:\u001b[0m\u001b[1;33m\u001b[0m\u001b[1;33m\u001b[0m\u001b[0m\n\u001b[1;32m--> 598\u001b[1;33m           outputs = execute.execute(\n\u001b[0m\u001b[0;32m    599\u001b[0m               \u001b[0mstr\u001b[0m\u001b[1;33m(\u001b[0m\u001b[0mself\u001b[0m\u001b[1;33m.\u001b[0m\u001b[0msignature\u001b[0m\u001b[1;33m.\u001b[0m\u001b[0mname\u001b[0m\u001b[1;33m)\u001b[0m\u001b[1;33m,\u001b[0m\u001b[1;33m\u001b[0m\u001b[1;33m\u001b[0m\u001b[0m\n\u001b[0;32m    600\u001b[0m               \u001b[0mnum_outputs\u001b[0m\u001b[1;33m=\u001b[0m\u001b[0mself\u001b[0m\u001b[1;33m.\u001b[0m\u001b[0m_num_outputs\u001b[0m\u001b[1;33m,\u001b[0m\u001b[1;33m\u001b[0m\u001b[1;33m\u001b[0m\u001b[0m\n",
      "\u001b[1;32m~\\anaconda3\\envs\\rtx3070\\lib\\site-packages\\tensorflow\\python\\eager\\execute.py\u001b[0m in \u001b[0;36mquick_execute\u001b[1;34m(op_name, num_outputs, inputs, attrs, ctx, name)\u001b[0m\n\u001b[0;32m     56\u001b[0m   \u001b[1;32mtry\u001b[0m\u001b[1;33m:\u001b[0m\u001b[1;33m\u001b[0m\u001b[1;33m\u001b[0m\u001b[0m\n\u001b[0;32m     57\u001b[0m     \u001b[0mctx\u001b[0m\u001b[1;33m.\u001b[0m\u001b[0mensure_initialized\u001b[0m\u001b[1;33m(\u001b[0m\u001b[1;33m)\u001b[0m\u001b[1;33m\u001b[0m\u001b[1;33m\u001b[0m\u001b[0m\n\u001b[1;32m---> 58\u001b[1;33m     tensors = pywrap_tfe.TFE_Py_Execute(ctx._handle, device_name, op_name,\n\u001b[0m\u001b[0;32m     59\u001b[0m                                         inputs, attrs, num_outputs)\n\u001b[0;32m     60\u001b[0m   \u001b[1;32mexcept\u001b[0m \u001b[0mcore\u001b[0m\u001b[1;33m.\u001b[0m\u001b[0m_NotOkStatusException\u001b[0m \u001b[1;32mas\u001b[0m \u001b[0me\u001b[0m\u001b[1;33m:\u001b[0m\u001b[1;33m\u001b[0m\u001b[1;33m\u001b[0m\u001b[0m\n",
      "\u001b[1;31mKeyboardInterrupt\u001b[0m: "
     ]
    }
   ],
   "source": [
    "model_Efficientnet_b7 = tf.keras.Sequential([\n",
    "    hub.KerasLayer(Efficientnet_b7, trainable = False, input_shape = (250,250,3), name = 'Resnet_V2_50'),\n",
    "    tf.keras.layers.Flatten(),\n",
    "    tf.keras.layers.Dense(101, activation = 'softmax', name = 'Output_layer')\n",
    "])\n",
    "\n",
    "model_Efficientnet_b7.compile(\n",
    "    optimizer = tf.keras.optimizers.Adam(),\n",
    "    loss = tf.keras.losses.CategoricalCrossentropy(),\n",
    "    metrics = ['accuracy']\n",
    ")\n",
    "\n",
    "model_Efficientnet_b7.summary()\n",
    "\n",
    "\n",
    "#define callback\n",
    "from tensorflow.keras.callbacks import TensorBoard\n",
    "from tensorflow.keras.callbacks import ModelCheckpoint\n",
    "from tensorflow.keras.callbacks import EarlyStopping\n",
    "from tensorflow.keras.callbacks import ReduceLROnPlateau\n",
    "import datetime,os\n",
    "\n",
    "logdir = os.path.join(\"logs\", datetime.datetime.now().strftime(\"%Y%m%d-%H%M%S\"))\n",
    "tb = tf.keras.callbacks.TensorBoard(logdir, histogram_freq=1)\n",
    "\n",
    "\n",
    "#1.ModelCheckpoint\n",
    "filepath = os.path.join(\"logs\", \"weight.hdf5\")\n",
    "mc = ModelCheckpoint(\n",
    "    filepath, \n",
    "    monitor='val_loss', \n",
    "    verbose=1, \n",
    "    save_best_only=True, \n",
    "    save_weights_only=True, \n",
    "    mode='auto'\n",
    ")\n",
    "\n",
    "#2.EarlyStopping\n",
    "es=EarlyStopping(monitor='val_loss', patience=20, verbose=1)\n",
    "\n",
    "#3.ReduceLROnPlateau\n",
    "rp=ReduceLROnPlateau(\n",
    "    monitor='val_loss',\n",
    "    factor=0.1,\n",
    "    patience=5,\n",
    "    verbose=1,\n",
    "    mode='auto',\n",
    "    min_delta=0.001,\n",
    "    cooldown=0,\n",
    "    min_lr=0\n",
    ")\n",
    "\n",
    "\n",
    "efficientnet_b7_model = model_Efficientnet_b7.fit(train_data, epochs = 100, verbose = 1,validation_data=val_data,callbacks=[mc,rp,tb,es])\n",
    "\n",
    "model_Efficientnet_b7.save(\"Efficientnet_b7_{}.h5\".format(datetime.datetime.now().strftime(\"%Y%m%d-%H%M%S\")))\n",
    "model_Efficientnet_b7.save_weights('Efficientnet_b7_weight_{}.h5'.format(datetime.datetime.now().strftime(\"%Y%m%d-%H%M%S\")))\n",
    "\n",
    "model_Efficientnet_b7.evaluate(val_data)\n"
   ]
  },
  {
   "cell_type": "code",
   "execution_count": null,
   "metadata": {},
   "outputs": [],
   "source": []
  }
 ],
 "metadata": {
  "kernelspec": {
   "display_name": "Python 3 (ipykernel)",
   "language": "python",
   "name": "python3"
  },
  "language_info": {
   "codemirror_mode": {
    "name": "ipython",
    "version": 3
   },
   "file_extension": ".py",
   "mimetype": "text/x-python",
   "name": "python",
   "nbconvert_exporter": "python",
   "pygments_lexer": "ipython3",
   "version": "3.8.11"
  }
 },
 "nbformat": 4,
 "nbformat_minor": 4
}
