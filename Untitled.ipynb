{
 "cells": [
  {
   "cell_type": "code",
   "execution_count": 8,
   "id": "alert-maker",
   "metadata": {},
   "outputs": [
    {
     "name": "stdout",
     "output_type": "stream",
     "text": [
      "https://storage.googleapis.com/foodmanager-c10fd.appspot.com/gs%3A//foodmanager-c10fd.appspot.com/food.png?Expires=1642390153&GoogleAccessId=firebase-adminsdk-b4zlx%40foodmanager-c10fd.iam.gserviceaccount.com&Signature=lhc%2BiTAT8QiLCNkDsxlPDAKuzCQy%2BYnBucid5ZafLqWx0Pa9TqdbOgxj1eY58n2MDXLDqw9EH6bQ3NLYx%2F6Hu%2BlL%2BWDvfjum49qrbQrextJkG00SgN10%2FzNd5Lya7G%2BtU2iDh4pGtNs0xfTAcaUEWGojtXDKurdba073b8bW4L5yj51qq371K5jAcdZcdhCs2U5Vctrf3dDNgoW%2BIChHb5UypCgcayyKdxOe%2FBuTKKzbt9FgmfljVZ1FOjIPmw1aRKm70zLDtA1D9U%2B3w5nGmU8wQ4SaCy9t6%2BShFRkz1gGNP16pd08cabVzr7adJbv6bIpAZMtIQk0aHvmwzZ6trw%3D%3D\n"
     ]
    }
   ],
   "source": [
    "import firebase_admin\n",
    "from firebase_admin import credentials\n",
    "from firebase_admin import storage\n",
    "import datetime\n",
    "\n",
    "# Fetch the service account key JSON file contents\n",
    "cred = credentials.Certificate(\"./firebase_key/foodmanager-c10fd-firebase-adminsdk-b4zlx-9e5961e7a1.json\")\n",
    "\n",
    "# Initialize the app with a service account, granting admin privileges\n",
    "app = firebase_admin.initialize_app(cred, {\n",
    "    'storageBucket': 'foodmanager-c10fd.appspot.com',}, name='storage10')\n",
    "\n",
    "bucket = storage.bucket(app=app)\n",
    "blob = bucket.blob(\"gs://foodmanager-c10fd.appspot.com/food.png\")\n",
    "\n",
    "print(blob.generate_signed_url(datetime.timedelta(seconds=300), method='GET'))"
   ]
  },
  {
   "cell_type": "code",
   "execution_count": 10,
   "id": "reasonable-medicine",
   "metadata": {},
   "outputs": [],
   "source": [
    "# 引用必要套件\n",
    "import firebase_admin\n",
    "from firebase_admin import credentials\n",
    "from firebase_admin import firestore\n",
    "\n",
    "# 引用私密金鑰\n",
    "# path/to/serviceAccount.json 請用自己存放的路徑\n",
    "cred = credentials.Certificate('./firebase_key/foodmanager-c10fd-firebase-adminsdk-b4zlx-9e5961e7a1.json')\n",
    "\n",
    "# 初始化firebase，注意不能重複初始化\n",
    "firebase_admin.initialize_app(cred)\n",
    "\n",
    "# 初始化firestore\n",
    "db = firestore.client()"
   ]
  }
 ],
 "metadata": {
  "kernelspec": {
   "display_name": "Python 3",
   "language": "python",
   "name": "python3"
  },
  "language_info": {
   "codemirror_mode": {
    "name": "ipython",
    "version": 3
   },
   "file_extension": ".py",
   "mimetype": "text/x-python",
   "name": "python",
   "nbconvert_exporter": "python",
   "pygments_lexer": "ipython3",
   "version": "3.8.5"
  }
 },
 "nbformat": 4,
 "nbformat_minor": 5
}
