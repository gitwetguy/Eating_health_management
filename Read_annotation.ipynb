{
 "cells": [
  {
   "cell_type": "code",
   "execution_count": 2,
   "id": "c36d0f25-3377-4c28-b4ce-1562b9f25044",
   "metadata": {},
   "outputs": [],
   "source": [
    "import scipy.io\n",
    "mat = scipy.io.loadmat('./Food_image/annotations.mat')"
   ]
  },
  {
   "cell_type": "code",
   "execution_count": 6,
   "id": "d3e4f5b3-1784-43e5-b08e-1e56d0456693",
   "metadata": {},
   "outputs": [
    {
     "data": {
      "text/plain": [
       "dict_keys(['__header__', '__version__', '__globals__', 'None', '__function_workspace__'])"
      ]
     },
     "execution_count": 6,
     "metadata": {},
     "output_type": "execute_result"
    }
   ],
   "source": [
    "mat.keys()"
   ]
  },
  {
   "cell_type": "code",
   "execution_count": 9,
   "id": "0d4f31d0-dea4-4cc2-ade3-07b72a9b6c45",
   "metadata": {},
   "outputs": [
    {
     "data": {
      "text/plain": [
       "(4008248,)"
      ]
     },
     "execution_count": 9,
     "metadata": {},
     "output_type": "execute_result"
    }
   ],
   "source": [
    "mat[\"__function_workspace__\"][0].shape"
   ]
  }
 ],
 "metadata": {
  "kernelspec": {
   "display_name": "Python 3 (ipykernel)",
   "language": "python",
   "name": "python3"
  },
  "language_info": {
   "codemirror_mode": {
    "name": "ipython",
    "version": 3
   },
   "file_extension": ".py",
   "mimetype": "text/x-python",
   "name": "python",
   "nbconvert_exporter": "python",
   "pygments_lexer": "ipython3",
   "version": "3.8.11"
  }
 },
 "nbformat": 4,
 "nbformat_minor": 5
}
