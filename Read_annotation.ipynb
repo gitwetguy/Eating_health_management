{
 "cells": [
  {
   "cell_type": "code",
   "execution_count": 2,
   "id": "heavy-tuner",
   "metadata": {},
   "outputs": [],
   "source": [
    "import scipy.io\n",
    "mat = scipy.io.loadmat('./Food_image/annotations.mat')"
   ]
  },
  {
   "cell_type": "code",
   "execution_count": 6,
   "id": "apart-helmet",
   "metadata": {},
   "outputs": [
    {
     "data": {
      "text/plain": [
       "dict_keys(['__header__', '__version__', '__globals__', 'None', '__function_workspace__'])"
      ]
     },
     "execution_count": 6,
     "metadata": {},
     "output_type": "execute_result"
    }
   ],
   "source": [
    "mat.keys()"
   ]
  },
  {
   "cell_type": "code",
   "execution_count": 9,
   "id": "union-curtis",
   "metadata": {},
   "outputs": [
    {
     "data": {
      "text/plain": [
       "(4008248,)"
      ]
     },
     "execution_count": 9,
     "metadata": {},
     "output_type": "execute_result"
    }
   ],
   "source": [
    "mat[\"__function_workspace__\"][0].shape"
   ]
  }
 ],
 "metadata": {
  "kernelspec": {
   "display_name": "Python 3",
   "language": "python",
   "name": "python3"
  },
  "language_info": {
   "codemirror_mode": {
    "name": "ipython",
    "version": 3
   },
   "file_extension": ".py",
   "mimetype": "text/x-python",
   "name": "python",
   "nbconvert_exporter": "python",
   "pygments_lexer": "ipython3",
   "version": "3.8.5"
  }
 },
 "nbformat": 4,
 "nbformat_minor": 5
}
